{
 "cells": [
  {
   "cell_type": "markdown",
   "metadata": {},
   "source": [
    "#Given a specific budget what genre movie should I make to gross the highest domestic profit?"
   ]
  },
  {
   "cell_type": "code",
   "execution_count": 62,
   "metadata": {
    "collapsed": true
   },
   "outputs": [],
   "source": [
    "%matplotlib inline\n",
    "import pickle\n",
    "from pprint import pprint\n",
    "import pandas as pd\n",
    "import numpy as np"
   ]
  },
  {
   "cell_type": "markdown",
   "metadata": {},
   "source": [
    "###Load the movie dictionary"
   ]
  },
  {
   "cell_type": "code",
   "execution_count": 2,
   "metadata": {
    "collapsed": true
   },
   "outputs": [],
   "source": [
    "d = pickle.load(open('movie_dictionary.p'))"
   ]
  },
  {
   "cell_type": "code",
   "execution_count": 97,
   "metadata": {
    "collapsed": false
   },
   "outputs": [],
   "source": [
    "#Create a dataframe \n",
    "df = pd.DataFrame.from_dict(d, orient = 'index')"
   ]
  },
  {
   "cell_type": "code",
   "execution_count": 98,
   "metadata": {
    "collapsed": true
   },
   "outputs": [
    {
     "data": {
      "text/plain": [
       "gross          object\n",
       "rating         object\n",
       "distributor    object\n",
       "budget         object\n",
       "producers      object\n",
       "genre          object\n",
       "directors      object\n",
       "writers        object\n",
       "actors         object\n",
       "date           object\n",
       "runtime        object\n",
       "dtype: object"
      ]
     },
     "execution_count": 98,
     "metadata": {},
     "output_type": "execute_result"
    }
   ],
   "source": [
    "df.dtypes"
   ]
  },
  {
   "cell_type": "code",
   "execution_count": 153,
   "metadata": {
    "collapsed": false,
    "scrolled": true
   },
   "outputs": [],
   "source": [
    "df2 = df.copy()\n",
    "df2 = df2[['gross', 'date', 'budget', 'genre', 'runtime']]\n"
   ]
  },
  {
   "cell_type": "code",
   "execution_count": 154,
   "metadata": {
    "collapsed": false
   },
   "outputs": [],
   "source": [
    "df2['gross'][df2.gross == 'N/A'] = np.nan"
   ]
  },
  {
   "cell_type": "code",
   "execution_count": 165,
   "metadata": {
    "collapsed": false,
    "scrolled": true
   },
   "outputs": [
    {
     "data": {
      "text/plain": [
       " Untitled Illumination Project 2 (2016) (2016)     None\n",
       "$9.99 (2008)                                         78\n",
       "$upercapitalist (2012)                               96\n",
       "'71 (2015)                                           99\n",
       "'N Sync: Bigger Than Live (IMAX) (2001)              47\n",
       "'Neath the Arizona Skies (1934)                      52\n",
       "'Night, Mother (1986)                                96\n",
       "'R Xmas (2002)                                       83\n",
       "'Round Midnight (1986)                              133\n",
       "'Tis Autumn: The Search for Jackie Paris (2007)     100\n",
       "(500) Days of Summer (2009)                          95\n",
       "(Untitled) (2009)                                    96\n",
       "* batteries not included (1987)                     106\n",
       "...And Justice for All (1979)                       119\n",
       "1 Mile Above (2013)                                  87\n",
       "1+1=11 (2003)                                      None\n",
       "1,000 Times Good Night (2014)                       117\n",
       "10 (1979)                                           121\n",
       "10 Days in a Madhouse (2015)                        111\n",
       "10 Items or Less (2006)                              82\n",
       "10 Questions for the Dalai Lama (2007)               89\n",
       "10 Rules for Sleeping Around (2014)                  94\n",
       "10 Things I Hate About You (1999)                    97\n",
       "10 Years (2012)                                     100\n",
       "10 to Midnight (1983)                               103\n",
       "10,000 B.C. (2008)                                  109\n",
       "100 Bloody Acres (2013)                            None\n",
       "101 Dalmatians (1961)                                79\n",
       "101 Dalmatians (1996) (1996)                        103\n",
       "101 Dalmatians (Re-issue) (1969) (1969)              79\n",
       "                                                   ... \n",
       "Zizek! (2005)                                        71\n",
       "Zodiac (2007)                                       156\n",
       "Zokkomon (2011)                                     109\n",
       "Zombeavers (2015)                                    76\n",
       "Zombie Dawn (2012)                                   83\n",
       "Zombie High (1987)                                   93\n",
       "Zombieland (2009)                                    81\n",
       "Zoo (2007)                                           76\n",
       "Zookeeper (2011)                                    104\n",
       "Zoolander (2001)                                     89\n",
       "Zoolander 2 (2016)                                 None\n",
       "Zoom (2006)                                          83\n",
       "Zoot Suit (1981)                                    103\n",
       "Zootopia (2016)                                    None\n",
       "Zorro, the Gay Blade (1981)                          93\n",
       "Zu Warriors                                          80\n",
       "Zulu (1964)                                         138\n",
       "Zulu Dawn (1979)                                     98\n",
       "Zus & Zo (2003)                                     106\n",
       "Zyzzyx Road (2006)                                   90\n",
       "[Rec] 2 (2010)                                       85\n",
       "crazy/beautiful (2001)                               95\n",
       "demonlover (2003)                                   120\n",
       "eXistenZ (1999)                                      90\n",
       "fear dot com (2002)                                  98\n",
       "johns (1997)                                         96\n",
       "loudQUIETloud: A Film About The Pixies (2006)        82\n",
       "newt                                               None\n",
       "sex, lies and videotape (1989)                      100\n",
       "whaledreamers (2008)                                 83\n",
       "Name: runtime, dtype: object"
      ]
     },
     "execution_count": 165,
     "metadata": {},
     "output_type": "execute_result"
    }
   ],
   "source": [
    "df2['runtime'][df2.runtime <= 0]"
   ]
  },
  {
   "cell_type": "code",
   "execution_count": 161,
   "metadata": {
    "collapsed": false
   },
   "outputs": [],
   "source": [
    "df2['gross'][df2.gross == 'N/A'] = np.nan\n",
    "df2['budget'][df2.budget == 'N/A'] = np.nan\n",
    "df2['runtime'][df2.runtime == None] = np.nan\n",
    "#df2 = df2[df2.date != 'N/A']\n",
    "#df2 = df2[df2.genre != 'N/A']\n",
    "\n"
   ]
  },
  {
   "cell_type": "code",
   "execution_count": 137,
   "metadata": {
    "collapsed": false
   },
   "outputs": [],
   "source": [
    "df2['date'] = pd.to_datetime(df2['date'])\n",
    "df2['year'] = df2['date'].apply(lambda x: x.year)\n",
    "df2['gross'] = df2['gross'].astype(int)\n",
    "df2['budget'] = df2['budget'].astype(int)\n",
    "df2['runtime'] = df2['runtime'].astype(int)\n",
    "df2['log_runtime'] = df2['runtime'].apply(lambda x: np.log(x))\n",
    "df2['log_budget'] = df2['budget'].apply(lambda x: np.log(x))\n",
    "df2['log_gross'] = df2['gross'].apply(lambda x: np.log(x))"
   ]
  },
  {
   "cell_type": "markdown",
   "metadata": {},
   "source": [
    "###Check top grossing genres"
   ]
  },
  {
   "cell_type": "code",
   "execution_count": 124,
   "metadata": {
    "collapsed": false,
    "scrolled": true
   },
   "outputs": [
    {
     "data": {
      "text/html": [
       "<div>\n",
       "<table border=\"1\" class=\"dataframe\">\n",
       "  <thead>\n",
       "    <tr style=\"text-align: right;\">\n",
       "      <th></th>\n",
       "      <th>log_gross</th>\n",
       "      <th>runtime</th>\n",
       "    </tr>\n",
       "    <tr>\n",
       "      <th>genre</th>\n",
       "      <th></th>\n",
       "      <th></th>\n",
       "    </tr>\n",
       "  </thead>\n",
       "  <tbody>\n",
       "    <tr>\n",
       "      <th>Comedy</th>\n",
       "      <td>5784.843699</td>\n",
       "      <td>33608</td>\n",
       "    </tr>\n",
       "    <tr>\n",
       "      <th>Drama</th>\n",
       "      <td>2902.030307</td>\n",
       "      <td>20872</td>\n",
       "    </tr>\n",
       "    <tr>\n",
       "      <th>Animation</th>\n",
       "      <td>2709.927658</td>\n",
       "      <td>13604</td>\n",
       "    </tr>\n",
       "    <tr>\n",
       "      <th>Thriller</th>\n",
       "      <td>2163.144286</td>\n",
       "      <td>13906</td>\n",
       "    </tr>\n",
       "    <tr>\n",
       "      <th>Romantic Comedy</th>\n",
       "      <td>2148.211842</td>\n",
       "      <td>13067</td>\n",
       "    </tr>\n",
       "    <tr>\n",
       "      <th>Horror</th>\n",
       "      <td>2131.934666</td>\n",
       "      <td>12424</td>\n",
       "    </tr>\n",
       "    <tr>\n",
       "      <th>Action</th>\n",
       "      <td>1820.357443</td>\n",
       "      <td>11332</td>\n",
       "    </tr>\n",
       "    <tr>\n",
       "      <th>Action / Adventure</th>\n",
       "      <td>1249.241169</td>\n",
       "      <td>8149</td>\n",
       "    </tr>\n",
       "    <tr>\n",
       "      <th>Comedy / Drama</th>\n",
       "      <td>1196.697022</td>\n",
       "      <td>7819</td>\n",
       "    </tr>\n",
       "    <tr>\n",
       "      <th>Action Comedy</th>\n",
       "      <td>1180.313526</td>\n",
       "      <td>7011</td>\n",
       "    </tr>\n",
       "    <tr>\n",
       "      <th>Family Comedy</th>\n",
       "      <td>1119.309398</td>\n",
       "      <td>5972</td>\n",
       "    </tr>\n",
       "    <tr>\n",
       "      <th>Romance</th>\n",
       "      <td>1033.460856</td>\n",
       "      <td>7107</td>\n",
       "    </tr>\n",
       "    <tr>\n",
       "      <th>Sci-Fi Action</th>\n",
       "      <td>903.770993</td>\n",
       "      <td>5938</td>\n",
       "    </tr>\n",
       "    <tr>\n",
       "      <th>Family Adventure</th>\n",
       "      <td>881.822414</td>\n",
       "      <td>4860</td>\n",
       "    </tr>\n",
       "    <tr>\n",
       "      <th>Drama / Thriller</th>\n",
       "      <td>876.636519</td>\n",
       "      <td>6214</td>\n",
       "    </tr>\n",
       "    <tr>\n",
       "      <th>Action Thriller</th>\n",
       "      <td>821.670487</td>\n",
       "      <td>5526</td>\n",
       "    </tr>\n",
       "    <tr>\n",
       "      <th>Period Drama</th>\n",
       "      <td>798.493388</td>\n",
       "      <td>6463</td>\n",
       "    </tr>\n",
       "    <tr>\n",
       "      <th>Crime Drama</th>\n",
       "      <td>784.245287</td>\n",
       "      <td>5829</td>\n",
       "    </tr>\n",
       "    <tr>\n",
       "      <th>Unknown</th>\n",
       "      <td>721.218901</td>\n",
       "      <td>5894</td>\n",
       "    </tr>\n",
       "    <tr>\n",
       "      <th>Sports Drama</th>\n",
       "      <td>714.611298</td>\n",
       "      <td>4995</td>\n",
       "    </tr>\n",
       "    <tr>\n",
       "      <th>Fantasy</th>\n",
       "      <td>666.046139</td>\n",
       "      <td>4562</td>\n",
       "    </tr>\n",
       "    <tr>\n",
       "      <th>Music Drama</th>\n",
       "      <td>540.040712</td>\n",
       "      <td>3561</td>\n",
       "    </tr>\n",
       "    <tr>\n",
       "      <th>Period Adventure</th>\n",
       "      <td>537.035582</td>\n",
       "      <td>3848</td>\n",
       "    </tr>\n",
       "    <tr>\n",
       "      <th>Crime Comedy</th>\n",
       "      <td>497.923306</td>\n",
       "      <td>3161</td>\n",
       "    </tr>\n",
       "    <tr>\n",
       "      <th>Sci-Fi Horror</th>\n",
       "      <td>495.386702</td>\n",
       "      <td>3022</td>\n",
       "    </tr>\n",
       "    <tr>\n",
       "      <th>War</th>\n",
       "      <td>494.787109</td>\n",
       "      <td>4068</td>\n",
       "    </tr>\n",
       "    <tr>\n",
       "      <th>Action Drama</th>\n",
       "      <td>471.456190</td>\n",
       "      <td>3258</td>\n",
       "    </tr>\n",
       "    <tr>\n",
       "      <th>Sci-Fi Adventure</th>\n",
       "      <td>459.950014</td>\n",
       "      <td>3126</td>\n",
       "    </tr>\n",
       "    <tr>\n",
       "      <th>Sci-Fi Thriller</th>\n",
       "      <td>447.694946</td>\n",
       "      <td>2792</td>\n",
       "    </tr>\n",
       "    <tr>\n",
       "      <th>Action Horror</th>\n",
       "      <td>441.405750</td>\n",
       "      <td>2516</td>\n",
       "    </tr>\n",
       "    <tr>\n",
       "      <th>...</th>\n",
       "      <td>...</td>\n",
       "      <td>...</td>\n",
       "    </tr>\n",
       "    <tr>\n",
       "      <th>Horror Comedy</th>\n",
       "      <td>330.539089</td>\n",
       "      <td>1764</td>\n",
       "    </tr>\n",
       "    <tr>\n",
       "      <th>Family</th>\n",
       "      <td>309.668283</td>\n",
       "      <td>1779</td>\n",
       "    </tr>\n",
       "    <tr>\n",
       "      <th>Sci-Fi Comedy</th>\n",
       "      <td>289.782099</td>\n",
       "      <td>1670</td>\n",
       "    </tr>\n",
       "    <tr>\n",
       "      <th>War Drama</th>\n",
       "      <td>285.455585</td>\n",
       "      <td>2272</td>\n",
       "    </tr>\n",
       "    <tr>\n",
       "      <th>Action / Crime</th>\n",
       "      <td>283.287879</td>\n",
       "      <td>1897</td>\n",
       "    </tr>\n",
       "    <tr>\n",
       "      <th>Foreign</th>\n",
       "      <td>276.345002</td>\n",
       "      <td>2462</td>\n",
       "    </tr>\n",
       "    <tr>\n",
       "      <th>Fantasy Drama</th>\n",
       "      <td>271.150989</td>\n",
       "      <td>1893</td>\n",
       "    </tr>\n",
       "    <tr>\n",
       "      <th>Sci-Fi</th>\n",
       "      <td>269.232342</td>\n",
       "      <td>1799</td>\n",
       "    </tr>\n",
       "    <tr>\n",
       "      <th>Horror Thriller</th>\n",
       "      <td>268.761378</td>\n",
       "      <td>1663</td>\n",
       "    </tr>\n",
       "    <tr>\n",
       "      <th>Historical Drama</th>\n",
       "      <td>259.698007</td>\n",
       "      <td>2094</td>\n",
       "    </tr>\n",
       "    <tr>\n",
       "      <th>Crime Thriller</th>\n",
       "      <td>221.864351</td>\n",
       "      <td>1645</td>\n",
       "    </tr>\n",
       "    <tr>\n",
       "      <th>Romantic Thriller</th>\n",
       "      <td>201.357394</td>\n",
       "      <td>1326</td>\n",
       "    </tr>\n",
       "    <tr>\n",
       "      <th>Crime</th>\n",
       "      <td>193.047485</td>\n",
       "      <td>1442</td>\n",
       "    </tr>\n",
       "    <tr>\n",
       "      <th>Comedy Thriller</th>\n",
       "      <td>185.656180</td>\n",
       "      <td>1185</td>\n",
       "    </tr>\n",
       "    <tr>\n",
       "      <th>Documentary</th>\n",
       "      <td>178.571468</td>\n",
       "      <td>1180</td>\n",
       "    </tr>\n",
       "    <tr>\n",
       "      <th>Period Action</th>\n",
       "      <td>176.086693</td>\n",
       "      <td>1091</td>\n",
       "    </tr>\n",
       "    <tr>\n",
       "      <th>Sci-Fi Fantasy</th>\n",
       "      <td>167.529551</td>\n",
       "      <td>1132</td>\n",
       "    </tr>\n",
       "    <tr>\n",
       "      <th>Period Horror</th>\n",
       "      <td>159.390089</td>\n",
       "      <td>1039</td>\n",
       "    </tr>\n",
       "    <tr>\n",
       "      <th>Historical Epic</th>\n",
       "      <td>158.735757</td>\n",
       "      <td>1539</td>\n",
       "    </tr>\n",
       "    <tr>\n",
       "      <th>Adventure Comedy</th>\n",
       "      <td>136.507003</td>\n",
       "      <td>923</td>\n",
       "    </tr>\n",
       "    <tr>\n",
       "      <th>Period Comedy</th>\n",
       "      <td>116.092954</td>\n",
       "      <td>781</td>\n",
       "    </tr>\n",
       "    <tr>\n",
       "      <th>Foreign / Action</th>\n",
       "      <td>81.180764</td>\n",
       "      <td>610</td>\n",
       "    </tr>\n",
       "    <tr>\n",
       "      <th>Western Comedy</th>\n",
       "      <td>71.905176</td>\n",
       "      <td>447</td>\n",
       "    </tr>\n",
       "    <tr>\n",
       "      <th>Concert</th>\n",
       "      <td>67.694840</td>\n",
       "      <td>407</td>\n",
       "    </tr>\n",
       "    <tr>\n",
       "      <th>War Romance</th>\n",
       "      <td>53.571695</td>\n",
       "      <td>396</td>\n",
       "    </tr>\n",
       "    <tr>\n",
       "      <th>Action Fantasy</th>\n",
       "      <td>50.904147</td>\n",
       "      <td>270</td>\n",
       "    </tr>\n",
       "    <tr>\n",
       "      <th>Romantic Adventure</th>\n",
       "      <td>18.067301</td>\n",
       "      <td>110</td>\n",
       "    </tr>\n",
       "    <tr>\n",
       "      <th>IMAX</th>\n",
       "      <td>17.920720</td>\n",
       "      <td>75</td>\n",
       "    </tr>\n",
       "    <tr>\n",
       "      <th>Foreign / Horror</th>\n",
       "      <td>17.443435</td>\n",
       "      <td>112</td>\n",
       "    </tr>\n",
       "    <tr>\n",
       "      <th>Sports Action</th>\n",
       "      <td>16.759465</td>\n",
       "      <td>97</td>\n",
       "    </tr>\n",
       "  </tbody>\n",
       "</table>\n",
       "<p>65 rows × 2 columns</p>\n",
       "</div>"
      ],
      "text/plain": [
       "                      log_gross  runtime\n",
       "genre                                   \n",
       "Comedy              5784.843699    33608\n",
       "Drama               2902.030307    20872\n",
       "Animation           2709.927658    13604\n",
       "Thriller            2163.144286    13906\n",
       "Romantic Comedy     2148.211842    13067\n",
       "Horror              2131.934666    12424\n",
       "Action              1820.357443    11332\n",
       "Action / Adventure  1249.241169     8149\n",
       "Comedy / Drama      1196.697022     7819\n",
       "Action Comedy       1180.313526     7011\n",
       "Family Comedy       1119.309398     5972\n",
       "Romance             1033.460856     7107\n",
       "Sci-Fi Action        903.770993     5938\n",
       "Family Adventure     881.822414     4860\n",
       "Drama / Thriller     876.636519     6214\n",
       "Action Thriller      821.670487     5526\n",
       "Period Drama         798.493388     6463\n",
       "Crime Drama          784.245287     5829\n",
       "Unknown              721.218901     5894\n",
       "Sports Drama         714.611298     4995\n",
       "Fantasy              666.046139     4562\n",
       "Music Drama          540.040712     3561\n",
       "Period Adventure     537.035582     3848\n",
       "Crime Comedy         497.923306     3161\n",
       "Sci-Fi Horror        495.386702     3022\n",
       "War                  494.787109     4068\n",
       "Action Drama         471.456190     3258\n",
       "Sci-Fi Adventure     459.950014     3126\n",
       "Sci-Fi Thriller      447.694946     2792\n",
       "Action Horror        441.405750     2516\n",
       "...                         ...      ...\n",
       "Horror Comedy        330.539089     1764\n",
       "Family               309.668283     1779\n",
       "Sci-Fi Comedy        289.782099     1670\n",
       "War Drama            285.455585     2272\n",
       "Action / Crime       283.287879     1897\n",
       "Foreign              276.345002     2462\n",
       "Fantasy Drama        271.150989     1893\n",
       "Sci-Fi               269.232342     1799\n",
       "Horror Thriller      268.761378     1663\n",
       "Historical Drama     259.698007     2094\n",
       "Crime Thriller       221.864351     1645\n",
       "Romantic Thriller    201.357394     1326\n",
       "Crime                193.047485     1442\n",
       "Comedy Thriller      185.656180     1185\n",
       "Documentary          178.571468     1180\n",
       "Period Action        176.086693     1091\n",
       "Sci-Fi Fantasy       167.529551     1132\n",
       "Period Horror        159.390089     1039\n",
       "Historical Epic      158.735757     1539\n",
       "Adventure Comedy     136.507003      923\n",
       "Period Comedy        116.092954      781\n",
       "Foreign / Action      81.180764      610\n",
       "Western Comedy        71.905176      447\n",
       "Concert               67.694840      407\n",
       "War Romance           53.571695      396\n",
       "Action Fantasy        50.904147      270\n",
       "Romantic Adventure    18.067301      110\n",
       "IMAX                  17.920720       75\n",
       "Foreign / Horror      17.443435      112\n",
       "Sports Action         16.759465       97\n",
       "\n",
       "[65 rows x 2 columns]"
      ]
     },
     "execution_count": 124,
     "metadata": {},
     "output_type": "execute_result"
    }
   ],
   "source": [
    "df2.groupby('genre')[['log_gross', 'runtime']].sum().sort('log_gross', ascending = False)"
   ]
  },
  {
   "cell_type": "code",
   "execution_count": 125,
   "metadata": {
    "collapsed": false,
    "scrolled": true
   },
   "outputs": [],
   "source": [
    "df2['Comedy'] = df2['genre'].apply(lambda x: 1 if 'Comedy' in x else 0)\n",
    "df2['Horror'] = df2['genre'].apply(lambda x: 1 if 'Horror' in x else 0)\n",
    "df2['Drama'] = df2['genre'].apply(lambda x: 1 if 'Drama' in x else 0)\n",
    "df2['Thriller'] = df2['genre'].apply(lambda x: 1 if 'Thriller' in x else 0)\n",
    "df2['Romance'] = df2['genre'].apply(lambda x: 1 if ('Romance' in x) or ('Romantic' in x) else 0)\n",
    "df2['Sci_Fi'] = df2['genre'].apply(lambda x: 1 if 'Sci-Fi' in x else 0)\n",
    "df2['Music'] = df2['genre'].apply(lambda x: 1 if 'Music' in x else 0)\n",
    "df2['Action'] = df2['genre'].apply(lambda x: 1 if 'Action' in x else 0)\n",
    "\n"
   ]
  },
  {
   "cell_type": "code",
   "execution_count": 104,
   "metadata": {
    "collapsed": true
   },
   "outputs": [],
   "source": []
  },
  {
   "cell_type": "code",
   "execution_count": 78,
   "metadata": {
    "collapsed": true
   },
   "outputs": [],
   "source": []
  },
  {
   "cell_type": "markdown",
   "metadata": {},
   "source": [
    "###Linear Regression"
   ]
  },
  {
   "cell_type": "code",
   "execution_count": 85,
   "metadata": {
    "collapsed": true
   },
   "outputs": [],
   "source": []
  },
  {
   "cell_type": "code",
   "execution_count": 106,
   "metadata": {
    "collapsed": false
   },
   "outputs": [],
   "source": [
    "#y, X = dmatrices('gross ~ budget + Comedy + Horror + Drama + \\\n",
    "#                            Thriller + Romance + Sci_Fi + Music + Action', data=df2, return_type='dataframe')\n",
    "y, X = dmatrices('log_gross ~ log_budget + year', data=df2, return_type='dataframe')"
   ]
  },
  {
   "cell_type": "code",
   "execution_count": 109,
   "metadata": {
    "collapsed": true
   },
   "outputs": [],
   "source": [
    "from patsy import dmatrices\n",
    "from patsy import dmatrix\n",
    "import statsmodels.api as sm"
   ]
  },
  {
   "cell_type": "code",
   "execution_count": 131,
   "metadata": {
    "collapsed": false
   },
   "outputs": [
    {
     "name": "stdout",
     "output_type": "stream",
     "text": [
      "                            OLS Regression Results                            \n",
      "==============================================================================\n",
      "Dep. Variable:              log_gross   R-squared:                       0.248\n",
      "Model:                            OLS   Adj. R-squared:                  0.248\n",
      "Method:                 Least Squares   F-statistic:                     850.1\n",
      "Date:                Tue, 06 Oct 2015   Prob (F-statistic):          9.89e-162\n",
      "Time:                        13:10:58   Log-Likelihood:                -4713.8\n",
      "No. Observations:                2575   AIC:                             9432.\n",
      "Df Residuals:                    2573   BIC:                             9443.\n",
      "Df Model:                           1                                         \n",
      "Covariance Type:            nonrobust                                         \n",
      "==============================================================================\n",
      "                 coef    std err          t      P>|t|      [95.0% Conf. Int.]\n",
      "------------------------------------------------------------------------------\n",
      "Intercept     16.1678      0.044    370.284      0.000        16.082    16.253\n",
      "budget         0.0198      0.001     29.157      0.000         0.018     0.021\n",
      "==============================================================================\n",
      "Omnibus:                     1000.033   Durbin-Watson:                   1.879\n",
      "Prob(Omnibus):                  0.000   Jarque-Bera (JB):             5100.925\n",
      "Skew:                          -1.789   Prob(JB):                         0.00\n",
      "Kurtosis:                       8.894   Cond. No.                         94.3\n",
      "==============================================================================\n",
      "\n",
      "Warnings:\n",
      "[1] Standard Errors assume that the covariance matrix of the errors is correctly specified.\n"
     ]
    },
    {
     "data": {
      "text/plain": [
       "<matplotlib.axes._subplots.AxesSubplot at 0x10f501910>"
      ]
     },
     "execution_count": 131,
     "metadata": {},
     "output_type": "execute_result"
    },
    {
     "data": {
      "image/png": "[encoded data removed]",
      "text/plain": [
       "<matplotlib.figure.Figure at 0x1079de5d0>"
      ]
     },
     "metadata": {},
     "output_type": "display_data"
    }
   ],
   "source": [
    "#budget vs log_gross\n",
    "y, X = dmatrices('log_gross ~ budget', data=df2, return_type='dataframe')\n",
    "model = sm.OLS(y, X)\n",
    "results = model.fit()\n",
    "print results.summary()\n",
    "df2.plot(x = 'budget', y = 'log_gross', kind = 'scatter')"
   ]
  },
  {
   "cell_type": "code",
   "execution_count": 133,
   "metadata": {
    "collapsed": false
   },
   "outputs": [
    {
     "name": "stdout",
     "output_type": "stream",
     "text": [
      "                            OLS Regression Results                            \n",
      "==============================================================================\n",
      "Dep. Variable:                  gross   R-squared:                       0.254\n",
      "Model:                            OLS   Adj. R-squared:                  0.254\n",
      "Method:                 Least Squares   F-statistic:                     878.2\n",
      "Date:                Tue, 06 Oct 2015   Prob (F-statistic):          2.70e-166\n",
      "Time:                        13:11:46   Log-Likelihood:                -49968.\n",
      "No. Observations:                2575   AIC:                         9.994e+04\n",
      "Df Residuals:                    2573   BIC:                         9.995e+04\n",
      "Df Model:                           1                                         \n",
      "Covariance Type:            nonrobust                                         \n",
      "==============================================================================\n",
      "                 coef    std err          t      P>|t|      [95.0% Conf. Int.]\n",
      "------------------------------------------------------------------------------\n",
      "Intercept  -7.022e+07   4.64e+06    -15.121      0.000     -7.93e+07 -6.11e+07\n",
      "log_budget  3.857e+07    1.3e+06     29.634      0.000       3.6e+07  4.11e+07\n",
      "==============================================================================\n",
      "Omnibus:                     1580.843   Durbin-Watson:                   1.535\n",
      "Prob(Omnibus):                  0.000   Jarque-Bera (JB):            21058.463\n",
      "Skew:                           2.695   Prob(JB):                         0.00\n",
      "Kurtosis:                      15.931   Cond. No.                         13.9\n",
      "==============================================================================\n",
      "\n",
      "Warnings:\n",
      "[1] Standard Errors assume that the covariance matrix of the errors is correctly specified.\n"
     ]
    },
    {
     "data": {
      "text/plain": [
       "<matplotlib.axes._subplots.AxesSubplot at 0x10c6aff90>"
      ]
     },
     "execution_count": 133,
     "metadata": {},
     "output_type": "execute_result"
    },
    {
     "data": {
      "image/png": "[encoded data removed]",
      "text/plain": [
       "<matplotlib.figure.Figure at 0x10c459b10>"
      ]
     },
     "metadata": {},
     "output_type": "display_data"
    }
   ],
   "source": [
    "#log(budget) vs gross\n",
    "y, X = dmatrices('gross ~ log_budget', data=df2, return_type='dataframe')\n",
    "model = sm.OLS(y, X)\n",
    "results = model.fit()\n",
    "print results.summary()\n",
    "df2.plot(x = 'log_budget', y = 'gross', kind = 'scatter')"
   ]
  },
  {
   "cell_type": "code",
   "execution_count": 134,
   "metadata": {
    "collapsed": false
   },
   "outputs": [
    {
     "name": "stdout",
     "output_type": "stream",
     "text": [
      "                            OLS Regression Results                            \n",
      "==============================================================================\n",
      "Dep. Variable:              log_gross   R-squared:                       0.337\n",
      "Model:                            OLS   Adj. R-squared:                  0.336\n",
      "Method:                 Least Squares   F-statistic:                     1305.\n",
      "Date:                Tue, 06 Oct 2015   Prob (F-statistic):          1.44e-231\n",
      "Time:                        13:12:27   Log-Likelihood:                -4553.0\n",
      "No. Observations:                2575   AIC:                             9110.\n",
      "Df Residuals:                    2573   BIC:                             9122.\n",
      "Df Model:                           1                                         \n",
      "Covariance Type:            nonrobust                                         \n",
      "==============================================================================\n",
      "                 coef    std err          t      P>|t|      [95.0% Conf. Int.]\n",
      "------------------------------------------------------------------------------\n",
      "Intercept     13.5666      0.102    133.397      0.000        13.367    13.766\n",
      "log_budget     1.0298      0.029     36.131      0.000         0.974     1.086\n",
      "==============================================================================\n",
      "Omnibus:                      762.402   Durbin-Watson:                   1.874\n",
      "Prob(Omnibus):                  0.000   Jarque-Bera (JB):             3301.299\n",
      "Skew:                          -1.372   Prob(JB):                         0.00\n",
      "Kurtosis:                       7.821   Cond. No.                         13.9\n",
      "==============================================================================\n",
      "\n",
      "Warnings:\n",
      "[1] Standard Errors assume that the covariance matrix of the errors is correctly specified.\n"
     ]
    },
    {
     "data": {
      "text/plain": [
       "<matplotlib.axes._subplots.AxesSubplot at 0x1079d7890>"
      ]
     },
     "execution_count": 134,
     "metadata": {},
     "output_type": "execute_result"
    },
    {
     "data": {
      "image/png": "[encoded data removed]",
      "text/plain": [
       "<matplotlib.figure.Figure at 0x10cec7f10>"
      ]
     },
     "metadata": {},
     "output_type": "display_data"
    }
   ],
   "source": [
    "#log(budget) vs log(gross)\n",
    "y, X = dmatrices('log_gross ~ log_budget', data=df2, return_type='dataframe')\n",
    "model = sm.OLS(y, X)\n",
    "results = model.fit()\n",
    "print results.summary()\n",
    "df2.plot(x = 'log_budget', y = 'log_gross', kind = 'scatter')"
   ]
  },
  {
   "cell_type": "code",
   "execution_count": 140,
   "metadata": {
    "collapsed": false
   },
   "outputs": [
    {
     "name": "stdout",
     "output_type": "stream",
     "text": [
      "                            OLS Regression Results                            \n",
      "==============================================================================\n",
      "Dep. Variable:                runtime   R-squared:                       0.066\n",
      "Model:                            OLS   Adj. R-squared:                  0.066\n",
      "Method:                 Least Squares   F-statistic:                     182.2\n",
      "Date:                Tue, 06 Oct 2015   Prob (F-statistic):           3.64e-40\n",
      "Time:                        13:14:07   Log-Likelihood:                -11325.\n",
      "No. Observations:                2575   AIC:                         2.265e+04\n",
      "Df Residuals:                    2573   BIC:                         2.266e+04\n",
      "Df Model:                           1                                         \n",
      "Covariance Type:            nonrobust                                         \n",
      "==============================================================================\n",
      "                 coef    std err          t      P>|t|      [95.0% Conf. Int.]\n",
      "------------------------------------------------------------------------------\n",
      "Intercept    104.0662      0.569    182.905      0.000       102.951   105.182\n",
      "budget         0.1195      0.009     13.498      0.000         0.102     0.137\n",
      "==============================================================================\n",
      "Omnibus:                     1062.541   Durbin-Watson:                   1.822\n",
      "Prob(Omnibus):                  0.000   Jarque-Bera (JB):             8315.260\n",
      "Skew:                           1.757   Prob(JB):                         0.00\n",
      "Kurtosis:                      11.072   Cond. No.                         94.3\n",
      "==============================================================================\n",
      "\n",
      "Warnings:\n",
      "[1] Standard Errors assume that the covariance matrix of the errors is correctly specified.\n"
     ]
    },
    {
     "data": {
      "text/plain": [
       "<matplotlib.axes._subplots.AxesSubplot at 0x10e364f10>"
      ]
     },
     "execution_count": 140,
     "metadata": {},
     "output_type": "execute_result"
    },
    {
     "data": {
      "image/png": "[encoded data removed]",
      "text/plain": [
       "<matplotlib.figure.Figure at 0x10e439550>"
      ]
     },
     "metadata": {},
     "output_type": "display_data"
    }
   ],
   "source": [
    "#budget vs runtime\n",
    "y, X = dmatrices('runtime ~ budget', data=df2, return_type='dataframe')\n",
    "model = sm.OLS(y, X)\n",
    "results = model.fit()\n",
    "print results.summary()\n",
    "df2.plot(x = 'budget', y = 'runtime', kind = 'scatter')"
   ]
  },
  {
   "cell_type": "code",
   "execution_count": null,
   "metadata": {
    "collapsed": true
   },
   "outputs": [],
   "source": []
  }
 ],
 "metadata": {
  "kernelspec": {
   "display_name": "Python 2",
   "language": "python",
   "name": "python2"
  },
  "language_info": {
   "codemirror_mode": {
    "name": "ipython",
    "version": 2
   },
   "file_extension": ".py",
   "mimetype": "text/x-python",
   "name": "python",
   "nbconvert_exporter": "python",
   "pygments_lexer": "ipython2",
   "version": "2.7.10"
  }
 },
 "nbformat": 4,
 "nbformat_minor": 0
}
